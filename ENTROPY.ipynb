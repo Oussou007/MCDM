{
 "cells": [
  {
   "cell_type": "code",
   "execution_count": null,
   "metadata": {},
   "outputs": [],
   "source": [
    "import pandas as pd\n",
    "import numpy as np\n",
    "\n",
    "# Lire les données nettoyées\n",
    "df_nba_players_data_cleaned = pd.read_csv('nba_players_data_cleaned.csv')\n",
    "\n",
    "# Identifier les colonnes contenant les valeurs normalisées\n",
    "normalized_cols = [12, 13, 14, 18]  # Correspond à 'pts', 'reb', 'ast', 'usg_pct' dans updated_df\n",
    "\n",
    "# Remplacer les zéros et les valeurs non numériques par une petite valeur pour éviter les erreurs log(0)\n",
    "for col in normalized_cols:\n",
    "    df_nba_players_data_cleaned.iloc[:, col] = pd.to_numeric(df_nba_players_data_cleaned.iloc[:, col], errors='coerce').fillna(1e-8)\n",
    "\n",
    "# Calculer l'entropie pour chaque critère\n",
    "k = 1 / np.log(len(df_nba_players_data_cleaned))\n",
    "entropies = []\n",
    "for col in normalized_cols:\n",
    "    entropy = -k * (df_nba_players_data_cleaned.iloc[:, col] * np.log(df_nba_players_data_cleaned.iloc[:, col])).sum()\n",
    "    entropies.append(entropy)\n",
    "\n",
    "# Calculer les poids d'entropie\n",
    "total_entropy = sum(1 - e for e in entropies)\n",
    "entropy_weights = [(1 - e) / total_entropy for e in entropies]\n",
    "\n",
    "# Créer un dictionnaire des poids d'entropie\n",
    "criteria = ['pts', 'reb', 'ast', 'usg_pct']\n",
    "entropy_weights_dict = dict(zip(criteria, entropy_weights))\n",
    "\n",
    "# Créer un DataFrame pour les poids d'entropie\n",
    "weights_df_entropy = pd.DataFrame({'Criteria': criteria, 'Entropy Weight': entropy_weights})\n",
    "\n",
    "# Sauvegarder les poids d'entropie dans un fichier CSV\n",
    "weights_df_entropy.to_csv('output_ranking_ENTROPY.csv', index=False)\n",
    "\n",
    "# Télécharger le fichier CSV\n",
    "from google.colab import files\n",
    "files.download('output_ranking_ENTROPY.csv')"
   ]
  }
 ],
 "metadata": {
  "kernelspec": {
   "display_name": "Python 3 (ipykernel)",
   "language": "python",
   "name": "python3"
  },
  "language_info": {
   "codemirror_mode": {
    "name": "ipython",
    "version": 3
   },
   "file_extension": ".py",
   "mimetype": "text/x-python",
   "name": "python",
   "nbconvert_exporter": "python",
   "pygments_lexer": "ipython3",
   "version": "3.11.9"
  }
 },
 "nbformat": 4,
 "nbformat_minor": 2
}
