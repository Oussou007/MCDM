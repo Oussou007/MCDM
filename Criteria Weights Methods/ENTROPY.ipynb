import pandas as pd
import numpy as np

# Lire les données nettoyées
df_nba_players_data_cleaned = pd.read_csv('nba_players_data_cleaned.csv')

# Identifier les colonnes contenant les valeurs normalisées
normalized_cols = [12, 13, 14, 18]  # Correspond à 'pts', 'reb', 'ast', 'usg_pct' dans updated_df

# Remplacer les zéros et les valeurs non numériques par une petite valeur pour éviter les erreurs log(0)
for col in normalized_cols:
    df_nba_players_data_cleaned.iloc[:, col] = pd.to_numeric(df_nba_players_data_cleaned.iloc[:, col], errors='coerce').fillna(1e-8)

# Calculer l'entropie pour chaque critère
k = 1 / np.log(len(df_nba_players_data_cleaned))
entropies = []
for col in normalized_cols:
    entropy = -k * (df_nba_players_data_cleaned.iloc[:, col] * np.log(df_nba_players_data_cleaned.iloc[:, col])).sum()
    entropies.append(entropy)

# Calculer les poids d'entropie
total_entropy = sum(1 - e for e in entropies)
entropy_weights = [(1 - e) / total_entropy for e in entropies]

# Créer un dictionnaire des poids d'entropie
criteria = ['pts', 'reb', 'ast', 'usg_pct']
entropy_weights_dict = dict(zip(criteria, entropy_weights))

# Créer un DataFrame pour les poids d'entropie
weights_df_entropy = pd.DataFrame({'Criteria': criteria, 'Entropy Weight': entropy_weights})

# Sauvegarder les poids d'entropie dans un fichier CSV
weights_df_entropy.to_csv('output_ranking_ANTROPY.csv', index=False)

# Télécharger le fichier CSV
from google.colab import files
files.download('output_ranking_ANTROPY.csv')
