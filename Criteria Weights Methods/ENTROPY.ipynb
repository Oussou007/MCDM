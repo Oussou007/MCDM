{
 "cells": [
  {
   "cell_type": "code",
   "execution_count": null,
   "metadata": {},
   "outputs": [],
   "source": [
    "import pandas as pd\n",
    "import numpy as np\n",
    "\n",
    "# Read cleaned data\n",
    "df_nba_players_data_cleaned = pd.read_csv('nba_players_data_cleaned.csv')\n",
    "\n",
    "# Identify columns containing standard values\n",
    "normalized_cols = [12, 13, 14, 18]  # Corresponds to 'pts', 'reb', 'ast', 'usg_pct' in updated_df\n",
    "\n",
    "# Replace zeros and non-numeric values with a small value to avoid log(0) errors\n",
    "for col in normalized_cols:\n",
    "    df_nba_players_data_cleaned.iloc[:, col] = pd.to_numeric(df_nba_players_data_cleaned.iloc[:, col], errors='coerce').fillna(1e-8)\n",
    "\n",
    "# Calculate the entropy for each criterion\n",
    "k = 1 / np.log(len(df_nba_players_data_cleaned))\n",
    "entropies = []\n",
    "for col in normalized_cols:\n",
    "    entropy = -k * (df_nba_players_data_cleaned.iloc[:, col] * np.log(df_nba_players_data_cleaned.iloc[:, col])).sum()\n",
    "    entropies.append(entropy)\n",
    "\n",
    "# Calculate entropy weights\n",
    "total_entropy = sum(1 - e for e in entropies)\n",
    "entropy_weights = [(1 - e) / total_entropy for e in entropies]\n",
    "\n",
    "# Create a dictionary of entropy weights\n",
    "criteria = ['pts', 'reb', 'ast', 'usg_pct']\n",
    "entropy_weights_dict = dict(zip(criteria, entropy_weights))\n",
    "\n",
    "# Create a DataFrame for entropy weights\n",
    "weights_df_entropy = pd.DataFrame({'Criteria': criteria, 'Entropy Weight': entropy_weights})\n",
    "\n",
    "# Save entropy weights in a CSV file\n",
    "weights_df_entropy.to_csv('output_ranking_ENTROPY.csv', index=False)"
   ]
  }
 ],
 "metadata": {
  "kernelspec": {
   "display_name": "Python 3 (ipykernel)",
   "language": "python",
   "name": "python3"
  },
  "language_info": {
   "codemirror_mode": {
    "name": "ipython",
    "version": 3
   },
   "file_extension": ".py",
   "mimetype": "text/x-python",
   "name": "python",
   "nbconvert_exporter": "python",
   "pygments_lexer": "ipython3",
   "version": "3.11.9"
  }
 },
 "nbformat": 4,
 "nbformat_minor": 2
}
