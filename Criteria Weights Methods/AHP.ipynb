{
 "cells": [
  {
   "cell_type": "code",
   "execution_count": null,
   "metadata": {},
   "outputs": [],
   "source": [
    "import pandas as pd\n",
    "\n",
    "# Read the AHP weights from the Excel file\n",
    "df_ahp = pd.read_excel(\"AHP.xlsx\", sheet_name=\"AHP\", skiprows=3)\n",
    "\n",
    "# Select the columns containing the AHP criteria and weights\n",
    "criteria = df_ahp[pd.notnull(df_ahp['1- Comparison matrix (A)']) & df_ahp['1- Comparison matrix (A)'].astype(str).str.startswith('C')]['1- Comparison matrix (A)'].tolist()\n",
    "ahp_weights = df_ahp[pd.notnull(df_ahp['1- Comparison matrix (A)']) & df_ahp['1- Comparison matrix (A)'].astype(str).str.startswith('C')]['Unnamed: 14'].tolist()\n",
    "criteria_weights = dict(zip(criteria, ahp_weights))\n",
    "\n",
    "# Create a DataFrame for AHP weights\n",
    "weights_df_ahp = pd.DataFrame({'Criteria': criteria, 'AHP Weight': ahp_weights})\n",
    "\n",
    "# Save AHP weights in a CSV file\n",
    "weights_df_ahp.to_csv('output_ranking_AHP.csv', index=False)"
   ]
  }
 ],
 "metadata": {
  "kernelspec": {
   "display_name": "Python 3 (ipykernel)",
   "language": "python",
   "name": "python3"
  },
  "language_info": {
   "codemirror_mode": {
    "name": "ipython",
    "version": 3
   },
   "file_extension": ".py",
   "mimetype": "text/x-python",
   "name": "python",
   "nbconvert_exporter": "python",
   "pygments_lexer": "ipython3",
   "version": "3.11.9"
  }
 },
 "nbformat": 4,
 "nbformat_minor": 2
}
