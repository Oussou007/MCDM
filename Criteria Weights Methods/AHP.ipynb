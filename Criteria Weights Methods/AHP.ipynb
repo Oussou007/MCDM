{
 "cells": [
  {
   "cell_type": "code",
   "execution_count": null,
   "metadata": {},
   "outputs": [],
   "source": [
    "import pandas as pd\n",
    "\n",
    "# Lire les poids AHP à partir du fichier Excel (vous devrez adapter le chemin et le nom de la feuille)\n",
    "df_ahp = pd.read_excel(\"AHP_example.xlsx\", sheet_name=\"AHP_example\", skiprows=3)\n",
    "criteria = df_ahp[pd.notnull(df_ahp['1- Comparison matrix (A)']) & df_ahp['1- Comparison matrix (A)'].astype(str).str.startswith('C')]['1- Comparison matrix (A)'].tolist()\n",
    "ahp_weights = df_ahp[pd.notnull(df_ahp['1- Comparison matrix (A)']) & df_ahp['1- Comparison matrix (A)'].astype(str).str.startswith('C')]['Unnamed: 14'].tolist()\n",
    "criteria_weights = dict(zip(criteria, ahp_weights))\n",
    "\n",
    "# Créer un DataFrame pour les poids AHP\n",
    "weights_df_ahp = pd.DataFrame({'Criteria': criteria, 'AHP Weight': ahp_weights})\n",
    "\n",
    "# Sauvegarder les poids AHP dans un fichier CSV\n",
    "weights_df_ahp.to_csv('output_ranking_AHP.csv', index=False)\n",
    "\n",
    "# Télécharger le fichier CSV\n",
    "from google.colab import files\n",
    "files.download('output_ranking_AHP.csv')"
   ]
  }
 ],
 "metadata": {
  "kernelspec": {
   "display_name": "Python 3 (ipykernel)",
   "language": "python",
   "name": "python3"
  },
  "language_info": {
   "codemirror_mode": {
    "name": "ipython",
    "version": 3
   },
   "file_extension": ".py",
   "mimetype": "text/x-python",
   "name": "python",
   "nbconvert_exporter": "python",
   "pygments_lexer": "ipython3",
   "version": "3.11.9"
  }
 },
 "nbformat": 4,
 "nbformat_minor": 2
}
