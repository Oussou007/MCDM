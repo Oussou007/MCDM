{
 "cells": [
  {
   "cell_type": "code",
   "execution_count": null,
   "metadata": {},
   "outputs": [],
   "source": [
    "import pandas as pd\n",
    "\n",
    "# Read AHP and Entropy weights from CSV files \n",
    "# (Assuming these files have been generated from your previous steps)\n",
    "weights_df_ahp = pd.read_csv('output_ranking_AHP.csv')    # Load AHP weights\n",
    "weights_df_entropy = pd.read_csv('output_ranking_ENTROPY.csv')  # Load entropy weights\n",
    "\n",
    "# Merge AHP and Entropy weights and calculate the average\n",
    "weights_df = pd.merge(weights_df_ahp, weights_df_entropy, on='Criteria')\n",
    "weights_df['Final Weight'] = (weights_df['AHP Weight'] + weights_df['Entropy Weight']) / 2\n",
    "\n",
    "# Create the weights DataFrame\n",
    "weights_data = {\n",
    "    'Criteria': ['PTS', 'REB', 'AST', 'NET_RATING', 'GP', 'USG_PCT'],\n",
    "    'AHP Weight': [0.35, 0.30, 0.15, 0.15, 0.10, 0.15],\n",
    "    'Entropy Weight': [0.35, 0.22, 0.18, 0.05, 0.03, 0.17],\n",
    "    'Final Weight': [0.35, 0.26, 0.165, 0.10, 0.065, 0.16]\n",
    "}\n",
    "weights_df = pd.DataFrame(weights_data)\n",
    "\n",
    "# Save to CSV\n",
    "weights_df.to_csv('final_weights.csv', index=False)\n",
    "\n",
    "print(\"Weights saved to 'final_weights.csv'\")"
   ]
  },
  {
   "cell_type": "code",
   "execution_count": null,
   "metadata": {},
   "outputs": [],
   "source": [
    "pd.read_csv('final_weights.csv')"
   ]
  }
 ],
 "metadata": {
  "kernelspec": {
   "display_name": "Python 3 (ipykernel)",
   "language": "python",
   "name": "python3"
  },
  "language_info": {
   "codemirror_mode": {
    "name": "ipython",
    "version": 3
   },
   "file_extension": ".py",
   "mimetype": "text/x-python",
   "name": "python",
   "nbconvert_exporter": "python",
   "pygments_lexer": "ipython3",
   "version": "3.11.9"
  }
 },
 "nbformat": 4,
 "nbformat_minor": 2
}
