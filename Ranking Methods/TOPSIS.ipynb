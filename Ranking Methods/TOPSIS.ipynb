{
 "cells": [
  {
   "cell_type": "code",
   "execution_count": null,
   "metadata": {},
   "outputs": [],
   "source": [
    "import pandas as pd\n",
    "import numpy as np\n",
    "\n",
    "# 1. Read data and weights\n",
    "updated_df = pd.read_csv('nba_players_data_cleaned.csv')\n",
    "weights_df_ahp = pd.read_csv('output_ranking_AHP.csv') \n",
    "weights_df_entropy = pd.read_csv('output_ranking_ENTROPY.csv') \n",
    "\n",
    "# 2. Merge AHP and entropy weights (you can adjust the merge method if necessary)\n",
    "weights_df = pd.merge(weights_df_ahp, weights_df_entropy, on='Criteria')\n",
    "weights_df['Final Weight'] = (weights_df['AHP Weight'] + weights_df['Entropy Weight']) / 2\n",
    "\n",
    "# 3. Data normalisation\n",
    "normalized_cols = ['pts', 'reb', 'ast', 'usg_pct'] \n",
    "for col in normalized_cols:\n",
    "    updated_df[col] = updated_df[col] / updated_df[col].max()\n",
    "\n",
    "# 4. Calculation of weighted values\n",
    "for col in normalized_cols:\n",
    "    updated_df[f'{col}_weighted'] = updated_df[col] * weights_df[weights_df['Criteria'] == col]['Final Weight'].values[0]\n",
    "\n",
    "# 5. Calculate of ideal best and worst solutions\n",
    "ideal_best = updated_df[[f'{col}_weighted' for col in normalized_cols]].max()\n",
    "ideal_worst = updated_df[[f'{col}_weighted' for col in normalized_cols]].min()\n",
    "\n",
    "# 6. Calculate Euclidean distances\n",
    "updated_df['S_i+'] = np.sqrt(((updated_df[[f'{col}_weighted' for col in normalized_cols]] - ideal_best) ** 2).sum(axis=1))\n",
    "updated_df['S_i-'] = np.sqrt(((updated_df[[f'{col}_weighted' for col in normalized_cols]] - ideal_worst) ** 2).sum(axis=1))\n",
    "\n",
    "# 7. Calculate TOPSIS scores\n",
    "updated_df['TOPSIS_score'] = updated_df['S_i-'] / (updated_df['S_i+'] + updated_df['S_i-'])\n",
    "\n",
    "# 8. Sort players by TOPSIS score\n",
    "updated_df.sort_values(by='TOPSIS_score', ascending=False, inplace=True)\n",
    "\n",
    "# 9. Save TOPSIS rankings to a CSV file\n",
    "updated_df[['player_name', 'TOPSIS_score']].to_csv('output_ranking_TOPSIS.csv', index=False)\n",
    "\n",
    "print(\"Classement TOPSIS sauvegardé dans 'output_ranking_TOPSIS.csv'\")\n"
   ]
  }
 ],
 "metadata": {
  "kernelspec": {
   "display_name": "Python 3 (ipykernel)",
   "language": "python",
   "name": "python3"
  },
  "language_info": {
   "codemirror_mode": {
    "name": "ipython",
    "version": 3
   },
   "file_extension": ".py",
   "mimetype": "text/x-python",
   "name": "python",
   "nbconvert_exporter": "python",
   "pygments_lexer": "ipython3",
   "version": "3.10.1"
  }
 },
 "nbformat": 4,
 "nbformat_minor": 2
}
