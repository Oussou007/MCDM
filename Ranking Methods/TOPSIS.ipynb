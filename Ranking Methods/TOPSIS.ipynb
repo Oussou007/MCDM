{
 "cells": [
  {
   "cell_type": "code",
   "execution_count": null,
   "metadata": {},
   "outputs": [],
   "source": [
    "import numpy as np\n",
    "\n",
    "class TOPSIS:\n",
    "    @staticmethod\n",
    "    def calculate_topsis(updated_df, all_weighted_cols):\n",
    "        ideal_best = updated_df[all_weighted_cols].max()\n",
    "        ideal_worst = updated_df[all_weighted_cols].min()\n",
    "\n",
    "        updated_df['S_i+'] = np.sqrt(((updated_df[all_weighted_cols] - ideal_best) ** 2).sum(axis=1))\n",
    "        updated_df['S_i-'] = np.sqrt(((updated_df[all_weighted_cols] - ideal_worst) ** 2).sum(axis=1))\n",
    "        updated_df['TOPSIS_score'] = updated_df['S_i-'] / (updated_df['S_i+'] + updated_df['S_i-'])\n",
    "\n",
    "        updated_df.sort_values(by='TOPSIS_score', ascending=False, inplace=True)\n",
    "        updated_df[['player_name', 'TOPSIS_score']].to_csv('output_ranking_TOPSIS.csv', index=False)\n",
    "        return updated_df[['player_name', 'TOPSIS_score']]"
   ]
  }
 ],
 "metadata": {
  "kernelspec": {
   "display_name": "Python 3 (ipykernel)",
   "language": "python",
   "name": "python3"
  },
  "language_info": {
   "codemirror_mode": {
    "name": "ipython",
    "version": 3
   },
   "file_extension": ".py",
   "mimetype": "text/x-python",
   "name": "python",
   "nbconvert_exporter": "python",
   "pygments_lexer": "ipython3",
   "version": "3.10.1"
  }
 },
 "nbformat": 4,
 "nbformat_minor": 2
}
