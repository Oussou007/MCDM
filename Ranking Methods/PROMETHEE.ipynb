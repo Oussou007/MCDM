{
 "cells": [
  {
   "cell_type": "code",
   "execution_count": 43,
   "metadata": {},
   "outputs": [],
   "source": [
    "import pandas as pd\n",
    "\n",
    "# 1. Read the \"PROMETHEE.xlsx - PROMETHEE.csv\" file into a Pandas Dataframe.\n",
    "df_promethee = pd.read_excel(\"PROMETHEE.xlsx\", sheet_name=\"PROMETHEE\")\n",
    "\n",
    "\n",
    "# 2. Extract rows where 'Alternatives/Criteria' starts with 'A'\n",
    "df_promethee_filtered = df_promethee[df_promethee['Alternatives/Criteria'].astype(str).str.startswith('A')]\n",
    "\n",
    "# 3. Extract PROMETHEE I and PROMETHEE II columns and convert to numeric, handling errors\n",
    "df_promethee_filtered['PROMETHEE I'] = pd.to_numeric(df_promethee_filtered['PROMETHEE I'], errors='coerce')\n",
    "df_promethee_filtered['PROMETHEE II'] = pd.to_numeric(df_promethee_filtered['PROMETHEE II'], errors='coerce')\n",
    "\n",
    "# 4. Sort by PROMETHEE I and II scores in descending order\n",
    "promethee_I_ranking = df_promethee_filtered[['Alternatives/Criteria', 'PROMETHEE I']].sort_values(by='PROMETHEE I', ascending=False).dropna()\n",
    "promethee_II_ranking = df_promethee_filtered[['Alternatives/Criteria', 'PROMETHEE II']].sort_values(by='PROMETHEE II', ascending=False).dropna()\n",
    "\n",
    "# 5. Get top-ranked alternatives, handling ties\n",
    "top_promethee_I = promethee_I_ranking[promethee_I_ranking['PROMETHEE I'] == promethee_I_ranking['PROMETHEE I'].max()]['Alternatives/Criteria'].tolist()\n",
    "top_promethee_II = promethee_II_ranking[promethee_II_ranking['PROMETHEE II'] == promethee_II_ranking['PROMETHEE II'].max()]['Alternatives/Criteria'].tolist()\n",
    "\n",
    "# 6. Display PROMETHEE I and II rankings\n",
    "print(\"\\nPROMETHEE I Ranking (Top 5):\\n\", promethee_I_ranking.head().to_markdown(index=False, numalign=\"left\", stralign=\"left\"))\n",
    "print(\"\\nPROMETHEE II Ranking (Top 5):\\n\", promethee_II_ranking.head().to_markdown(index=False, numalign=\"left\", stralign=\"left\"))\n",
    "\n",
    "# 7. Combine top-ranked alternatives from all methods\n",
    "top_alternatives = {\n",
    "    'TOPSIS': updated_df['player_name'].iloc[0],\n",
    "    'WASPAS': updated_df['player_name'].iloc[0],\n",
    "    'WSM': updated_df['player_name'].iloc[0],\n",
    "    'WPM': updated_df['player_name'].iloc[0],\n",
    "    'PROMETHEE I': top_promethee_I,\n",
    "    'PROMETHEE II': top_promethee_II\n",
    "}\n",
    "\n",
    "# 8. Print comparison of top-ranked alternatives\n",
    "print(\"\\nComparison of Top-Ranked Alternatives:\")\n",
    "for method, alternative in top_alternatives.items():\n",
    "    if isinstance(alternative, list):\n",
    "        print(f\"{method}: {', '.join(alternative)}\")  # Print tied alternatives as a comma-separated list\n",
    "    else:\n",
    "        print(f\"{method}: {alternative}\")"
   ]
  }
 ],
 "metadata": {
  "kernelspec": {
   "display_name": "Python 3 (ipykernel)",
   "language": "python",
   "name": "python3"
  },
  "language_info": {
   "codemirror_mode": {
    "name": "ipython",
    "version": 3
   },
   "file_extension": ".py",
   "mimetype": "text/x-python",
   "name": "python",
   "nbconvert_exporter": "python",
   "pygments_lexer": "ipython3",
   "version": "3.11.7"
  }
 },
 "nbformat": 4,
 "nbformat_minor": 2
}
