{
 "cells": [
  {
   "cell_type": "code",
   "execution_count": 43,
   "metadata": {},
   "outputs": [],
   "source": [
    "import pandas as pd\n",
    "\n",
    "# Read the \"PROMETHEE.xlsx - PROMETHEE.csv\" file into a Pandas Dataframe.\n",
    "df_promethee = pd.read_excel(\"PROMETHEE.xlsx\", sheet_name=\"PROMETHEE\")\n",
    "\n",
    "# Extract rows where 'Alternatives/Criteria' starts with 'A'\n",
    "df_promethee_filtered = df_promethee[df_promethee['Alternatives/Criteria'].astype(str).str.startswith('A')]\n",
    "\n",
    "# Get top-ranked alternatives, handling ties\n",
    "top_promethee_I = promethee_I_ranking[promethee_I_ranking['PROMETHEE I'] == promethee_I_ranking['PROMETHEE I'].max()]['Alternatives/Criteria'].tolist()\n",
    "top_promethee_II = promethee_II_ranking[promethee_II_ranking['PROMETHEE II'] == promethee_II_ranking['PROMETHEE II'].max()]['Alternatives/Criteria'].tolist()\n",
    "\n",
    "# Display PROMETHEE I and II rankings\n",
    "print(\"\\nPROMETHEE I Ranking (Top 5):\\n\", promethee_I_ranking.head().to_markdown(index=False, numalign=\"left\", stralign=\"left\"))\n",
    "print(\"\\nPROMETHEE II Ranking (Top 5):\\n\", promethee_II_ranking.head().to_markdown(index=False, numalign=\"left\", stralign=\"left\"))"
   ]
  },
  {
   "cell_type": "code",
   "execution_count": null,
   "metadata": {},
   "outputs": [],
   "source": [
    "# Combine top-ranked alternatives from all methods\n",
    "top_alternatives = {\n",
    "    'TOPSIS': updated_df['player_name'].iloc[0],\n",
    "    'WASPAS': updated_df['player_name'].iloc[0],\n",
    "    'WSM': updated_df['player_name'].iloc[0],\n",
    "    'WPM': updated_df['player_name'].iloc[0],\n",
    "    'PROMETHEE I': top_promethee_I,\n",
    "    'PROMETHEE II': top_promethee_II\n",
    "}\n",
    "\n",
    "# Combine PROMETHEE I and II rankings in a single DataFrame\n",
    "output_ranking_combined_PROMETHEE = pd.DataFrame({\n",
    "    'Alternative': promethee_I_ranking['Alternatives/Criteria'],\n",
    "    'PROMETHEE I': promethee_I_ranking['PROMETHEE I'],\n",
    "    'PROMETHEE II': promethee_II_ranking['PROMETHEE II']\n",
    "})\n",
    "\n",
    "# Replace missing values with a dash to indicate differences in classification\n",
    "output_ranking_combined_PROMETHEE.fillna('-', inplace=True)\n",
    "\n",
    "# Save the combined ranking in a CSV file\n",
    "output_ranking_combined_PROMETHEE.to_csv('output_ranking_combined_PROMETHEE.csv', index=False)\n",
    "\n",
    "# Print comparison of top-ranked alternatives\n",
    "print(\"\\nComparison of Top-Ranked Alternatives:\")\n",
    "for method, alternative in top_alternatives.items():\n",
    "    if isinstance(alternative, list):\n",
    "        print(f\"{method}: {', '.join(alternative)}\")  \n",
    "        # Print tied alternatives as a comma-separated list\n",
    "    else:\n",
    "        print(f\"{method}: {alternative}\")"
   ]
  }
 ],
 "metadata": {
  "kernelspec": {
   "display_name": "Python 3 (ipykernel)",
   "language": "python",
   "name": "python3"
  },
  "language_info": {
   "codemirror_mode": {
    "name": "ipython",
    "version": 3
   },
   "file_extension": ".py",
   "mimetype": "text/x-python",
   "name": "python",
   "nbconvert_exporter": "python",
   "pygments_lexer": "ipython3",
   "version": "3.11.7"
  }
 },
 "nbformat": 4,
 "nbformat_minor": 2
}
