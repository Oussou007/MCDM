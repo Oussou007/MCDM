{
 "cells": [
  {
   "cell_type": "code",
   "execution_count": 43,
   "metadata": {},
   "outputs": [],
   "source": [
    "import pandas as pd\n",
    "import altair as alt\n",
    "from vega_datasets import data\n",
    "\n",
    "# Load rankings from CSV files\n",
    "topsis_ranking = pd.read_csv('output_ranking_TOPSIS.csv')\n",
    "waspas_ranking = pd.read_csv('output_ranking_WASPAS.csv')\n",
    "wsm_ranking = pd.read_csv('output_ranking_WSM.csv')\n",
    "wpm_ranking = pd.read_csv('output_ranking_WPM.csv')\n",
    "\n",
    "# Merge rankings into one DataFrame\n",
    "top_players = pd.concat([\n",
    "    topsis_ranking[['player_name', 'TOPSIS_score']].head(10).rename(columns={'TOPSIS_score': 'TOPSIS'}),\n",
    "    waspas_ranking[['player_name', 'WASPAS_score']].head(10).rename(columns={'WASPAS_score': 'WASPAS'}),\n",
    "    wsm_ranking[['player_name', 'WSM_score']].head(10).rename(columns={'WSM_score': 'WSM'}),\n",
    "    wpm_ranking[['player_name', 'WPM_score']].head(10).rename(columns={'WPM_score': 'WPM'}),\n",
    "], axis=1)\n",
    "\n",
    "# Replace missing values with '-'\n",
    "top_players.fillna('-', inplace=True)\n",
    "\n",
    "# Display top 10 players for all methods\n",
    "print(\"\\nTop 10 Players (All Methods):\\n\", top_players.to_markdown(index=False, numalign=\"left\", stralign=\"left\"))\n",
    "\n",
    "# Create a chart to compare the rankings\n",
    "# Charger le thème \"dark\"\n",
    "alt.themes.enable(\"dark\")\n",
    "\n",
    "# Create a chart with a color legend using rectangles\n",
    "chart = alt.Chart(updated_df.head(10)).mark_bar().encode(\n",
    "    x=alt.X('player_name:N', sort=None, axis=alt.Axis(labelAngle=-45, title='Player Name')),\n",
    "    y=alt.Y('TOPSIS_score:Q', title='Score'),\n",
    "    color=alt.Color('player_name:N', legend=alt.Legend(symbolType='square')),  # Use squares for legend symbols\n",
    "    tooltip=['player_name', 'TOPSIS_score']\n",
    ").properties(\n",
    "    title='Top 10 NBA Players Ranking (TOPSIS)'\n",
    ").configure_scale(\n",
    "     bandPaddingInner=0.5,\n",
    "     bandPaddingOuter=0.5\n",
    ").interactive()\n",
    "\n",
    "chart.show()"
   ]
  },
  {
   "cell_type": "markdown",
   "metadata": {},
   "source": [
    "**Execution:**\n",
    "\n",
    "1.  Run the `data_preprocessing.py` script to clean and prepare the data.\n",
    "2.  Run the `calculate_weights.py` script to calculate and save the final weights.\n",
    "3.  Run the `topsis_ranking.py`, `waspas_ranking.py`, `wsm_ranking.py`, and `wpm_ranking.py` scripts to calculate and save rankings.\n",
    "4.  Run the `compare_rankings.py` script to compare the rankings and view the results."
   ]
  }
 ],
 "metadata": {
  "kernelspec": {
   "display_name": "Python 3 (ipykernel)",
   "language": "python",
   "name": "python3"
  },
  "language_info": {
   "codemirror_mode": {
    "name": "ipython",
    "version": 3
   },
   "file_extension": ".py",
   "mimetype": "text/x-python",
   "name": "python",
   "nbconvert_exporter": "python",
   "pygments_lexer": "ipython3",
   "version": "3.11.7"
  }
 },
 "nbformat": 4,
 "nbformat_minor": 2
}
