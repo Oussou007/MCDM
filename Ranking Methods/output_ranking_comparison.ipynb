{
 "cells": [
  {
   "cell_type": "code",
   "execution_count": 43,
   "metadata": {},
   "outputs": [],
   "source": [
    "!pip install altair_saver\n",
    "from altair_saver import save\n",
    "\n",
    "# Create a chart to compare the rankings\n",
    "chart = alt.Chart(updated_df.head(10)).mark_bar().encode(\n",
    "    x=alt.X('player_name:N', sort=None, axis=alt.Axis(labelAngle=-45)),\n",
    "    y=alt.Y('TOPSIS_score:Q', title='Score'),\n",
    "    color='player_name:N',\n",
    "    tooltip=['player_name', 'TOPSIS_score']\n",
    ").properties(\n",
    "    title='Top 10 NBA Players Ranking (ALL METHODS)',\n",
    "    width=800,\n",
    "    height=500,\n",
    "    background='white'\n",
    ").configure_title(\n",
    "    fontSize=20,\n",
    "    color=\"black\"\n",
    ").configure_scale(\n",
    "    bandPaddingInner=0.5,\n",
    "    bandPaddingOuter=0.5\n",
    ").configure_axis(\n",
    "    labelFontSize=20,\n",
    "    titleFontSize=20\n",
    ").configure_legend(\n",
    "    titleFontSize=20,\n",
    "    labelFontSize=20,\n",
    "    symbolSize=100\n",
    ").configure_view(\n",
    "    stroke=None,\n",
    "    strokeWidth=0\n",
    ").interactive()\n",
    "\n",
    "# Save 'top_players' DataFrame to CSV\n",
    "top_10_players = top_players.head(10)\n",
    "top_players.to_csv(\"top_10_players_all_methods.csv\", index=False) \n",
    "\n",
    "# Save 'top_players' DataFrame to JSON\n",
    "chart.save('top_10_players_all_methods.json')\n",
    "\n",
    "# Save 'top_players' DataFrame to HTML\n",
    "save(chart, \"top_10_players_all_methods.html\", embed_options={'actions': False})\n",
    "\n",
    "# Replace hyphens with empty strings in all columns\n",
    "top_players = top_players.astype(str).replace('-', '', regex=False).fillna(method='ffill')\n",
    "\n",
    "# Display top 10 players for all method\n",
    "print(\"\\nTop 10 Players (All Methods):\\n\", top_players.head(10).to_markdown(index=False, numalign=\"left\", stralign=\"left\"))"
   ]
  }
 ],
 "metadata": {
  "kernelspec": {
   "display_name": "Python 3 (ipykernel)",
   "language": "python",
   "name": "python3"
  },
  "language_info": {
   "codemirror_mode": {
    "name": "ipython",
    "version": 3
   },
   "file_extension": ".py",
   "mimetype": "text/x-python",
   "name": "python",
   "nbconvert_exporter": "python",
   "pygments_lexer": "ipython3",
   "version": "3.11.7"
  }
 },
 "nbformat": 4,
 "nbformat_minor": 2
}
