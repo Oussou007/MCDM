{
 "cells": [
  {
   "cell_type": "code",
   "execution_count": 43,
   "metadata": {},
   "outputs": [],
   "source": [
    "class WPM:\n",
    "    @staticmethod\n",
    "    def calculate_wpm(updated_df, all_weighted_cols):\n",
    "        updated_df['WPM_score'] = updated_df[all_weighted_cols].prod(axis=1) ** (1/len(all_weighted_cols))\n",
    "        updated_df.sort_values(by='WPM_score', ascending=False, inplace=True)\n",
    "        updated_df[['player_name', 'WPM_score']].to_csv('output_ranking_WPM.csv', index=False)\n",
    "        return updated_df[['player_name', 'WPM_score']]"
   ]
  }
 ],
 "metadata": {
  "kernelspec": {
   "display_name": "Python 3 (ipykernel)",
   "language": "python",
   "name": "python3"
  },
  "language_info": {
   "codemirror_mode": {
    "name": "ipython",
    "version": 3
   },
   "file_extension": ".py",
   "mimetype": "text/x-python",
   "name": "python",
   "nbconvert_exporter": "python",
   "pygments_lexer": "ipython3",
   "version": "3.11.7"
  }
 },
 "nbformat": 4,
 "nbformat_minor": 2
}
