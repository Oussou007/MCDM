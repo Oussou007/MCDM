{
 "cells": [
  {
   "cell_type": "code",
   "execution_count": 43,
   "metadata": {},
   "outputs": [],
   "source": [
    "import pandas as pd\n",
    "\n",
    "# Read cleaned data and final weights\n",
    "updated_df = pd.read_csv('nba_players_data_cleaned.csv')\n",
    "weights_df = pd.read_csv('final_weights.csv')\n",
    "\n",
    "# WPM Calculations\n",
    "# The WPM scores are already calculated in waspas_ranking.py\n",
    "\n",
    "# Sort players by WPM score\n",
    "updated_df.sort_values(by='WPM_score', ascending=False, inplace=True)\n",
    "\n",
    "# Save WPM rankings to a CSV file\n",
    "updated_df[['player_name', 'WPM_score']].to_csv('output_ranking_WPM.csv', index=False)"
   ]
  }
 ],
 "metadata": {
  "kernelspec": {
   "display_name": "Python 3 (ipykernel)",
   "language": "python",
   "name": "python3"
  },
  "language_info": {
   "codemirror_mode": {
    "name": "ipython",
    "version": 3
   },
   "file_extension": ".py",
   "mimetype": "text/x-python",
   "name": "python",
   "nbconvert_exporter": "python",
   "pygments_lexer": "ipython3",
   "version": "3.11.7"
  }
 },
 "nbformat": 4,
 "nbformat_minor": 2
}
