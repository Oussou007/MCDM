{
 "cells": [
  {
   "cell_type": "code",
   "execution_count": null,
   "metadata": {},
   "outputs": [],
   "source": [
    "import pandas as pd\n",
    "\n",
    "# Read cleaned data and final weights\n",
    "updated_df = pd.read_csv('nba_players_data_cleaned.csv')\n",
    "weights_df = pd.read_csv('final_weights.csv')\n",
    "\n",
    "# WASPAS Calculations\n",
    "lambda_value = 0.5  # Equal weighting for WSM and WPM\n",
    "\n",
    "# Calculate WSM scores\n",
    "updated_df['WSM_score'] = updated_df[['pts_final_weighted', 'reb_final_weighted', 'ast_final_weighted', 'net_rating_weighted', 'gp_weighted', 'usg_pct_final_weighted']].sum(axis=1)\n",
    "\n",
    "# Calculate WPM scores\n",
    "updated_df['WPM_score'] = updated_df[['pts_final_weighted', 'reb_final_weighted', 'ast_final_weighted', 'net_rating_weighted', 'gp_weighted', 'usg_pct_final_weighted']].prod(axis=1) ** (1/6)  # 6 criteria\n",
    "\n",
    "# Calculate WASPAS scores\n",
    "updated_df['WASPAS_score'] = lambda_value * updated_df['WSM_score'] + (1 - lambda_value) * updated_df['WPM_score']\n",
    "\n",
    "# Sort players by WASPAS score\n",
    "updated_df.sort_values(by='WASPAS_score', ascending=False, inplace=True)\n",
    "\n",
    "# Save WASPAS rankings to a CSV file\n",
    "updated_df[['player_name', 'WASPAS_score']].to_csv('output_ranking_WASPAS.csv', index=False)"
   ]
  }
 ],
 "metadata": {
  "kernelspec": {
   "display_name": "Python 3 (ipykernel)",
   "language": "python",
   "name": "python3"
  },
  "language_info": {
   "codemirror_mode": {
    "name": "ipython",
    "version": 3
   },
   "file_extension": ".py",
   "mimetype": "text/x-python",
   "name": "python",
   "nbconvert_exporter": "python",
   "pygments_lexer": "ipython3",
   "version": "3.10.1"
  }
 },
 "nbformat": 4,
 "nbformat_minor": 2
}
