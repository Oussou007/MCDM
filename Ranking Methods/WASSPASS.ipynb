{
 "cells": [
  {
   "cell_type": "code",
   "execution_count": null,
   "metadata": {},
   "outputs": [],
   "source": [
    "class WASPAS:\n",
    "    @staticmethod\n",
    "    def calculate_waspas(updated_df, lambda_value=0.5):\n",
    "        updated_df['WASPAS_score'] = lambda_value * updated_df['WSM_score'] + (1 - lambda_value) * updated_df['WPM_score']\n",
    "        updated_df.sort_values(by='WASPAS_score', ascending=False, inplace=True)\n",
    "        updated_df[['player_name', 'WASPAS_score']].to_csv('output_ranking_WASPAS.csv', index=False)\n",
    "        return updated_df[['player_name', 'WASPAS_score']]"
   ]
  }
 ],
 "metadata": {
  "kernelspec": {
   "display_name": "Python 3 (ipykernel)",
   "language": "python",
   "name": "python3"
  },
  "language_info": {
   "codemirror_mode": {
    "name": "ipython",
    "version": 3
   },
   "file_extension": ".py",
   "mimetype": "text/x-python",
   "name": "python",
   "nbconvert_exporter": "python",
   "pygments_lexer": "ipython3",
   "version": "3.10.1"
  }
 },
 "nbformat": 4,
 "nbformat_minor": 2
}
