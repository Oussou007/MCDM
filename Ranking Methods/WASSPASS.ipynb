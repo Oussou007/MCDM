{
 "cells": [
  {
   "cell_type": "code",
   "execution_count": 1,
   "metadata": {},
   "outputs": [
    {
     "ename": "ModuleNotFoundError",
     "evalue": "No module named 'pandas'",
     "output_type": "error",
     "traceback": [
      "\u001b[0;31m---------------------------------------------------------------------------\u001b[0m",
      "\u001b[0;31mModuleNotFoundError\u001b[0m                       Traceback (most recent call last)",
      "Cell \u001b[0;32mIn[1], line 1\u001b[0m\n\u001b[0;32m----> 1\u001b[0m \u001b[38;5;28;01mimport\u001b[39;00m \u001b[38;5;21;01mpandas\u001b[39;00m \u001b[38;5;28;01mas\u001b[39;00m \u001b[38;5;21;01mpd\u001b[39;00m\n\u001b[1;32m      3\u001b[0m \u001b[38;5;66;03m# Read cleaned data and final weights\u001b[39;00m\n\u001b[1;32m      4\u001b[0m updated_df \u001b[38;5;241m=\u001b[39m pd\u001b[38;5;241m.\u001b[39mread_csv(\u001b[38;5;124m'\u001b[39m\u001b[38;5;124mnba_players_data_cleaned.csv\u001b[39m\u001b[38;5;124m'\u001b[39m)\n",
      "\u001b[0;31mModuleNotFoundError\u001b[0m: No module named 'pandas'"
     ]
    }
   ],
   "source": [
    "import pandas as pd\n",
    "\n",
    "# Read cleaned data and final weights\n",
    "updated_df = pd.read_csv('nba_players_data_cleaned.csv')\n",
    "weights_df = pd.read_csv('final_weights.csv')\n",
    "\n",
    "# WASPAS Calculations\n",
    "lambda_value = 0.5  # Equal weighting for WSM and WPM\n",
    "\n",
    "# Calculate WSM scores\n",
    "updated_df['WSM_score'] = updated_df[['pts_final_weighted', 'reb_final_weighted', 'ast_final_weighted', 'net_rating_weighted', 'gp_weighted', 'usg_pct_final_weighted']].sum(axis=1)\n",
    "\n",
    "# Calculate WPM scores\n",
    "updated_df['WPM_score'] = updated_df[['pts_final_weighted', 'reb_final_weighted', 'ast_final_weighted', 'net_rating_weighted', 'gp_weighted', 'usg_pct_final_weighted']].prod(axis=1) ** (1/6)  # 6 criteria\n",
    "\n",
    "# Calculate WASPAS scores\n",
    "updated_df['WASPAS_score'] = lambda_value * updated_df['WSM_score'] + (1 - lambda_value) * updated_df['WPM_score']\n",
    "\n",
    "# Sort players by WASPAS score\n",
    "updated_df.sort_values(by='WASPAS_score', ascending=False, inplace=True)\n",
    "\n",
    "# Save WASPAS rankings to a CSV file\n",
    "updated_df[['player_name', 'WASPAS_score']].to_csv('output_ranking_WASPAS.csv', index=False)"
   ]
  }
 ],
 "metadata": {
  "kernelspec": {
   "display_name": "Python 3 (ipykernel)",
   "language": "python",
   "name": "python3"
  },
  "language_info": {
   "codemirror_mode": {
    "name": "ipython",
    "version": 3
   },
   "file_extension": ".py",
   "mimetype": "text/x-python",
   "name": "python",
   "nbconvert_exporter": "python",
   "pygments_lexer": "ipython3",
   "version": "3.10.1"
  }
 },
 "nbformat": 4,
 "nbformat_minor": 2
}
