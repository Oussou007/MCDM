{
 "cells": [
  {
   "cell_type": "code",
   "execution_count": null,
   "metadata": {},
   "outputs": [],
   "source": [
    "class WSM:\n",
    "    @staticmethod\n",
    "    def calculate_wsm(updated_df, all_weighted_cols):\n",
    "        updated_df['WSM_score'] = updated_df[all_weighted_cols].sum(axis=1)\n",
    "        updated_df.sort_values(by='WSM_score', ascending=False, inplace=True)\n",
    "        updated_df[['player_name', 'WSM_score']].to_csv('output_ranking_WSM.csv', index=False)\n",
    "        return updated_df[['player_name', 'WSM_score']]"
   ]
  }
 ],
 "metadata": {
  "kernelspec": {
   "display_name": "Python 3 (ipykernel)",
   "language": "python",
   "name": "python3"
  },
  "language_info": {
   "codemirror_mode": {
    "name": "ipython",
    "version": 3
   },
   "file_extension": ".py",
   "mimetype": "text/x-python",
   "name": "python",
   "nbconvert_exporter": "python",
   "pygments_lexer": "ipython3",
   "version": "3.11.7"
  }
 },
 "nbformat": 4,
 "nbformat_minor": 2
}
