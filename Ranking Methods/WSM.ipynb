{
 "cells": [
  {
   "cell_type": "code",
   "execution_count": null,
   "metadata": {},
   "outputs": [],
   "source": [
    "import pandas as pd\n",
    "\n",
    "# Read cleaned data and final weights\n",
    "updated_df = pd.read_csv('nba_players_data_cleaned.csv')\n",
    "weights_df = pd.read_csv('final_weights.csv')\n",
    "\n",
    "# WSM Calculations\n",
    "# The WSM scores are already calculated in waspas_ranking.py\n",
    "\n",
    "# Sort players by WSM score\n",
    "updated_df.sort_values(by='WSM_score', ascending=False, inplace=True)\n",
    "\n",
    "# Save WSM rankings to a CSV file\n",
    "updated_df[['player_name', 'WSM_score']].to_csv('output_ranking_WSM.csv', index=False)"
   ]
  }
 ],
 "metadata": {
  "kernelspec": {
   "display_name": "Python 3 (ipykernel)",
   "language": "python",
   "name": "python3"
  },
  "language_info": {
   "codemirror_mode": {
    "name": "ipython",
    "version": 3
   },
   "file_extension": ".py",
   "mimetype": "text/x-python",
   "name": "python",
   "nbconvert_exporter": "python",
   "pygments_lexer": "ipython3",
   "version": "3.11.7"
  }
 },
 "nbformat": 4,
 "nbformat_minor": 2
}
