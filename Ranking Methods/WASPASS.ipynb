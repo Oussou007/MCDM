{
 "cells": [
  {
   "cell_type": "code",
   "execution_count": null,
   "metadata": {},
   "outputs": [],
   "source": [
    "class WASPASS:\n",
    "    @staticmethod\n",
    "    def calculate_waspass(updated_df, lambda_value=0.5):\n",
    "        updated_df['WASPASS_score'] = lambda_value * updated_df['WSM_score'] + (1 - lambda_value) * updated_df['WPM_score']\n",
    "        updated_df.sort_values(by='WASPASS_score', ascending=False, inplace=True)\n",
    "        updated_df[['player_name', 'WASPASS_score']].to_csv('output_ranking_WASPASS.csv', index=False)\n",
    "        return updated_df[['player_name', 'WASPASS_score']]"
   ]
  }
 ],
 "metadata": {
  "kernelspec": {
   "display_name": "Python 3 (ipykernel)",
   "language": "python",
   "name": "python3"
  },
  "language_info": {
   "codemirror_mode": {
    "name": "ipython",
    "version": 3
   },
   "file_extension": ".py",
   "mimetype": "text/x-python",
   "name": "python",
   "nbconvert_exporter": "python",
   "pygments_lexer": "ipython3",
   "version": "3.10.1"
  }
 },
 "nbformat": 4,
 "nbformat_minor": 2
}
